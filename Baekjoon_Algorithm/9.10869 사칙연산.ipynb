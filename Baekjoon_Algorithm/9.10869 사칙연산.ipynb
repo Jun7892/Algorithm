{
 "cells": [
  {
   "cell_type": "markdown",
   "metadata": {},
   "source": [
    "# Question : 사칙연산"
   ]
  },
  {
   "cell_type": "markdown",
   "metadata": {},
   "source": [
    "<br>\n",
    "##문제\n",
    " - 두 자연수 A와 B가 주어진다. 이때, A+B, A-B, A*B, A/B(몫), A%B(나머지)를 출력하는 프로그램을 작성하시오. \n",
    "\n",
    "##입력\n",
    " - 두 자연수 A와 B가 주어진다. (1 ≤ A, B ≤ 10,000)\n",
    "\n",
    "##출력\n",
    " - 첫째 줄에 A+B, 둘째 줄에 A-B, 셋째 줄에 A*B, 넷째 줄에 A/B, 다섯째 줄에 A%B를 출력한다."
   ]
  },
  {
   "cell_type": "markdown",
   "metadata": {},
   "source": [
    "##EX"
   ]
  },
  {
   "cell_type": "code",
   "execution_count": null,
   "metadata": {},
   "outputs": [],
   "source": [
    "Input :\n",
    "\n",
    "7 3\n",
    "\n",
    "Output :\n",
    "\n",
    "10\n",
    "4\n",
    "21\n",
    "2\n",
    "1"
   ]
  },
  {
   "cell_type": "markdown",
   "metadata": {},
   "source": [
    "<br>\n",
    "#My Answer"
   ]
  },
  {
   "cell_type": "code",
   "execution_count": null,
   "metadata": {},
   "outputs": [],
   "source": [
    "# 1st attempt\n",
    "\n",
    "A,B = input().split()\n",
    "\n",
    "print(int(A)+int(B))\n",
    "print(int(A)-int(B))\n",
    "print(int(A)*int(B))\n",
    "print(int(A)/int(B))\n",
    "print(int(A)%int(B))"
   ]
  },
  {
   "cell_type": "markdown",
   "metadata": {},
   "source": [
    "틀린이유 : / 한번이 아니라 // 두번써야됨"
   ]
  },
  {
   "cell_type": "code",
   "execution_count": null,
   "metadata": {},
   "outputs": [],
   "source": [
    "# 2nd attempt\n",
    "\n",
    "A,B = input().split()\n",
    "\n",
    "print(int(A)+int(B))\n",
    "print(int(A)-int(B))\n",
    "print(int(A)*int(B))\n",
    "print(int(A)//int(B))\n",
    "print(int(A)%int(B))"
   ]
  },
  {
   "cell_type": "code",
   "execution_count": null,
   "metadata": {},
   "outputs": [],
   "source": [
    "# 다른 방법\n",
    "\n",
    "A, B = map(int , input().split()) \n",
    "\n",
    "print(A+B) # 덧셈 \n",
    "print(A-B) # 뺄셈 \n",
    "print(A*B) # 곱셈 \n",
    "print(A//B) # 몫 \n",
    "print(A%B) # 나머지\n",
    "\n"
   ]
  },
  {
   "cell_type": "markdown",
   "metadata": {},
   "source": [
    "map에 int와 input().split()을 넣으면 split의 결과를 모두 int로 변환한다.\n",
    "\n",
    "(만약에 실수로 변환할 경우에는 int 대신에 float를 넣을것)\n",
    "\n",
    "입력받는 부분은 input으로써, 실행시에 7 3 이런식으로 띄어서 입력해주어야 split로 나눌수있다.\n",
    "\n",
    "입력받은 a와 b를 각각 변수에 담고 print함수를 이용해서 뎃셈부터 나머지까지 사칙연산을 해준다.\n",
    "\n",
    "이때 몫은 //으로 구하면 된다."
   ]
  },
  {
   "cell_type": "markdown",
   "metadata": {},
   "source": [
    "map 함수의 모양\n",
    "첫 번째 매개변수로는 함수가 오고\n",
    "두 번째 매개변수로는 반복 가능한 자료형(리스트, 튜플 등)\n",
    "\n",
    "map 함수의 반환 값은 map객체 이기 때문에 해당 자료형을 list 혹은 tuple로 형 변환\n",
    "\n",
    "함수의 동작은 두 번째 인자로 들어온 반복 가능한 자료형 (리스트나 튜플)을 첫 번째 인자로 들어온 함수에 하나씩 집어넣어서 함수를 수행하는 함수\n",
    "\n",
    "map(적용시킬 함수, 적용할 값들)\n",
    "예를 들어 첫 번째 인자가 값에 +1을 더해주는 함수라고 하고 두번째 인자에 [1, 2, 3, 4, 5] 라는 리스트를 집어넣으면\n",
    "\n",
    "함수의 모양은 아래와 같고\n",
    "map( 값에 +1 을 더해주는 함수, [1,2,3,4,5]) \n",
    "함수의 반환을 list(. )로 감싸주면\n",
    "[2,3,4,5,6] 이 되는 함수"
   ]
  }
 ],
 "metadata": {
  "language_info": {
   "name": "python"
  },
  "orig_nbformat": 4
 },
 "nbformat": 4,
 "nbformat_minor": 2
}
