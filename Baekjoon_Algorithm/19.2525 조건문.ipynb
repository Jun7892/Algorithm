{
 "cells": [
  {
   "cell_type": "markdown",
   "metadata": {},
   "source": [
    "# Question : 오븐 시계"
   ]
  },
  {
   "cell_type": "markdown",
   "metadata": {},
   "source": [
    "<br>\n",
    "##문제\n",
    "\n",
    " - KOI 전자에서는 건강에 좋고 맛있는 훈제오리구이 요리를 간편하게 만드는 인공지능 오븐을 개발하려고 한다. 인공지능 오븐을 사용하는 방법은 적당한 양의 오리 훈제 재료를 인공지능 오븐에 넣으면 된다. 그러면 인공지능 오븐은 오븐구이가 끝나는 시간을 분 단위로 자동적으로 계산한다. \n",
    "\n",
    " - 또한, KOI 전자의 인공지능 오븐 앞면에는 사용자에게 훈제오리구이 요리가 끝나는 시각을 알려 주는 디지털 시계가 있다. \n",
    "\n",
    " - 훈제오리구이를 시작하는 시각과 오븐구이를 하는 데 필요한 시간이 분단위로 주어졌을 때, 오븐구이가 끝나는 시각을 계산하는 프로그램을 작성하시오.\n",
    "\n",
    "##입력\n",
    " - 첫째 줄에는 현재 시각이 나온다. 현재 시각은 시 A (0 ≤ A ≤ 23) 와 분 B (0 ≤ B ≤ 59)가 정수로 빈칸을 사이에 두고 순서대로 주어진다. 두 번째 줄에는 요리하는 데 필요한 시간 C (0 ≤ C ≤ 1,000)가 분 단위로 주어진다. \n",
    "\n",
    "##출력\n",
    " - 첫째 줄에 종료되는 시각의 시와 분을 공백을 사이에 두고 출력한다. (단, 시는 0부터 23까지의 정수, 분은 0부터 59까지의 정수이다. 디지털 시계는 23시 59분에서 1분이 지나면 0시 0분이 된다.)"
   ]
  },
  {
   "cell_type": "markdown",
   "metadata": {},
   "source": [
    "##EX"
   ]
  },
  {
   "cell_type": "code",
   "execution_count": null,
   "metadata": {},
   "outputs": [],
   "source": [
    "Input :\n",
    "\n",
    "14 30\n",
    "20\n",
    "\n",
    "Output :\n",
    "\n",
    "14 50"
   ]
  },
  {
   "cell_type": "code",
   "execution_count": null,
   "metadata": {},
   "outputs": [],
   "source": [
    "Input :\n",
    "\n",
    "17 40\n",
    "80\n",
    "\n",
    "Output :\n",
    "\n",
    "19 0"
   ]
  },
  {
   "cell_type": "code",
   "execution_count": null,
   "metadata": {},
   "outputs": [],
   "source": [
    "Input :\n",
    "\n",
    "23 48\n",
    "25\n",
    "\n",
    "Output :\n",
    "\n",
    "0 13"
   ]
  },
  {
   "cell_type": "markdown",
   "metadata": {},
   "source": [
    "<br>\n",
    "#My Answer"
   ]
  },
  {
   "cell_type": "code",
   "execution_count": null,
   "metadata": {},
   "outputs": [],
   "source": [
    "# 1st attempt\n",
    "\n",
    "H, M, C = map(int,input().split)\n",
    "\n",
    "if M + C >= 60:\n",
    "    if H == 23:\n",
    "        print(0, (M+C)-60)\n",
    "    else:\n",
    "        print(H+1, (M+C)-60)\n",
    "else:\n",
    "    print(H, M+C)\n",
    "    "
   ]
  },
  {
   "cell_type": "markdown",
   "metadata": {},
   "source": [
    "틀린 이유 : Runtime Error"
   ]
  },
  {
   "cell_type": "code",
   "execution_count": null,
   "metadata": {},
   "outputs": [],
   "source": [
    "# 2rd attempt\n",
    "\n",
    "H, M = map(int, input().split())\n",
    "C = int(input()) \n",
    "\n",
    "H += C // 60\n",
    "M += C % 60\n",
    "\n",
    "if M >= 60:\n",
    "    H += 1\n",
    "    M -= 60\n",
    "if H >= 24:\n",
    "    H -= 24\n",
    "\n",
    "print(H,M)"
   ]
  },
  {
   "cell_type": "markdown",
   "metadata": {},
   "source": [
    "<!-- +\t더하기\ta + b = 30\n",
    "-\t빼기\ta - b = -10\n",
    "*\t곱하기\ta * b = 200\n",
    "/\t나누기\tb / a = 2.0\n",
    "%\t나머지\tb % a = 0\n",
    "**\t제곱\ta ** c = 1000\n",
    "//\t몫\ta // c = 3\n",
    "\n",
    "=\t왼쪽 변수에 오른쪽 값을 할당한다\tc = a + b → c = a + b\n",
    "+=\t왼쪽 변수에 오른쪽 값을 더하고 결과를 왼쪽변수에 할당\tc += a → c = c + a\n",
    "-=\t왼쪽 변수에서 오른쪽 값을 빼고 결과를 왼쪽변수에 할당\tc -= a → c = c - a\n",
    "*=\t왼쪽 변수에 오른쪽 값을 곱하고 결과를 왼쪽변수에 할당\tc *= a → c = c * a\n",
    "/=\t왼쪽 변수에서 오른쪽 값을 나누고 결과를 왼쪽변수에 할당\tc /= a → c = c / a\n",
    "%=\t왼쪽 변수에서 오른쪽 값을 나눈 나머지의 결과를 왼쪽변수에 할당\tc %= a → c = c % a\n",
    "**=\t왼쪽 변수에 오른쪽 값만큼 제곱을 하고 결과를 왼쪽변수에 할당\tc **= a → c = c ** a\n",
    "//=\t왼쪽 변수에서 오른쪽 값을 나눈 몫의 결과를 왼쪽변수에 할당\tc //= a → c = c // a\n",
    "\n",
    "\n",
    "\n",
    "a = 60, b = 13 이라 가정한다.\n",
    "a = 0011 1100\n",
    "b = 0000 1101\n",
    "\n",
    "&\tAND 연산. 둘다 참일때만 만족\t(a & b) = 12 → 0000 1100\n",
    "|\tOR 연산. 둘 중 하나만 참이여도 만족\t(a | b) = 61 → 0011 1101\n",
    "^\tXOR 연산. 둘 중 하나만 참일 때 만족\t(a ^ b) = 49 → 0011 0001\n",
    "~\t보수 연산.\t(~a) = -61 → 1100 0011\n",
    "<<\t왼쪽 시프트 연산자. 변수의 값을 왼쪽으로 지정된 비트 수 만큼 이동\ta << 2 = 240 → 1111 0000\n",
    ">>\t오른쪽 시프트 연산자. 변수의 값을 오른쪽으로 지정된 비트 수 만큼 이동\ta >> 2 = 15 → 0000 1111 -->"
   ]
  },
  {
   "cell_type": "code",
   "execution_count": null,
   "metadata": {},
   "outputs": [],
   "source": [
    "# 다른 풀이\n",
    "\n",
    "A, B = map(int,input().split())\n",
    "C = int(input())\n",
    "A += C // 60\n",
    "B += C % 60\n",
    "\n",
    "if B >= 60 :\n",
    "    A+=1\n",
    "    B-=60\n",
    "\n",
    "if A >= 24 :\n",
    "    A-=24\n",
    "\n",
    "print('%d %d' % (A,B))"
   ]
  },
  {
   "cell_type": "markdown",
   "metadata": {},
   "source": [
    "print('%d %d' %(1,2) %은 내가원하는 징검다리\n",
    "print('{} {}'.format(1,2))\n",
    "\n",
    "%d 는 숫자 와야된다는 지정\n",
    "\n",
    "print('%4d' %(42))\n",
    "print('{:4d}'.format(42)) 정수자리일때는 자리수 표시 {:4}만 하면 안됨 d꼭 표시\n",
    "\n",
    "\n",
    "print('%s %s' % ('one','two')) %은 내가원하는 징검다리\n",
    "\n",
    "%s 는 문자열이 와야된다는 지정"
   ]
  },
  {
   "cell_type": "code",
   "execution_count": null,
   "metadata": {},
   "outputs": [],
   "source": [
    "# 다른 풀이\n",
    "\n",
    "A, B = map(int, input().split()) \n",
    "C = int(input()) \n",
    "B += C \n",
    "while True: \n",
    "    if B >= 60: \n",
    "        A += 1 \n",
    "        B -= 60 \n",
    "    else: \n",
    "        break \n",
    "    \n",
    "if A >= 24: \n",
    "    A -= 24 \n",
    "\n",
    "print(A, B)\n"
   ]
  },
  {
   "cell_type": "code",
   "execution_count": null,
   "metadata": {},
   "outputs": [],
   "source": [
    "# 다른 풀이\n",
    "\n",
    "a,b = map(int, input().split()) \n",
    "c = int(input()) \n",
    "a = (a + int((b+c)/60)) % 24 \n",
    "b = int((b+c)%60) \n",
    "print(a, b)"
   ]
  }
 ],
 "metadata": {
  "language_info": {
   "name": "python"
  },
  "orig_nbformat": 4
 },
 "nbformat": 4,
 "nbformat_minor": 2
}
