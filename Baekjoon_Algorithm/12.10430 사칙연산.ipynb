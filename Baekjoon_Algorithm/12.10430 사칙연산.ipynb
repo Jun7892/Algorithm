{
 "cells": [
  {
   "cell_type": "markdown",
   "metadata": {},
   "source": [
    "# Question : 나머지"
   ]
  },
  {
   "cell_type": "markdown",
   "metadata": {},
   "source": [
    "<br>\n",
    "##문제\n",
    " - (A+B)%C는 ((A%C) + (B%C))%C 와 같을까?\n",
    "\n",
    " - (A×B)%C는 ((A%C) × (B%C))%C 와 같을까?\n",
    "\n",
    " - 세 수 A, B, C가 주어졌을 때, 위의 네 가지 값을 구하는 프로그램을 작성하시오.\n",
    "\n",
    "##입력\n",
    " - 첫째 줄에 A, B, C가 순서대로 주어진다. (2 ≤ A, B, C ≤ 10000)\n",
    "\n",
    "##출력\n",
    " - 첫째 줄에 (A+B)%C, 둘째 줄에 ((A%C) + (B%C))%C, 셋째 줄에 (A×B)%C, 넷째 줄에 ((A%C) × (B%C))%C를 출력한다."
   ]
  },
  {
   "cell_type": "markdown",
   "metadata": {},
   "source": [
    "##EX"
   ]
  },
  {
   "cell_type": "code",
   "execution_count": null,
   "metadata": {},
   "outputs": [],
   "source": [
    "Input :\n",
    "\n",
    "5 8 4\n",
    "\n",
    "Output :\n",
    "\n",
    "1\n",
    "1\n",
    "0\n",
    "0"
   ]
  },
  {
   "cell_type": "markdown",
   "metadata": {},
   "source": [
    "<br>\n",
    "#My Answer"
   ]
  },
  {
   "cell_type": "code",
   "execution_count": null,
   "metadata": {},
   "outputs": [],
   "source": [
    "# 1st attempt\n",
    "\n",
    "A, B, C = map(int, input().split())\n",
    "\n",
    "# A, B, C = input().split()\n",
    "# A, B, C = int(A, B, C)\n",
    "\n",
    "\n",
    "\n",
    "print((A+B)%C)\n",
    "print(((A%C) + (B%C))%C)\n",
    "print((A*B)%C)\n",
    "print(((A%C) * (B%C))%C)\n",
    "    "
   ]
  },
  {
   "cell_type": "code",
   "execution_count": null,
   "metadata": {},
   "outputs": [],
   "source": [
    "# 다른 풀이\n",
    "\n",
    "A,B,C = map(int,input().split())\n",
    "\n",
    "print((A+B)%C, ((A%C)+(B%C))%C, (A*B)%C, ((A%C)*(B%C))%C, sep='\\n')\n",
    "# sep='\\n'로 줄바꿈"
   ]
  },
  {
   "cell_type": "markdown",
   "metadata": {},
   "source": [
    "print 함수의 sep 파라미터는 출력 값이 여러개인 경우 각 출력값 사이에 삽입할 문자를 지정 가능\n",
    " \n",
    "기본값은 공백이기 때문에 print 함수를 사용해서 sep 파라미터를 입력하지 않으면 여러 개의 문자를 출력할 때 한 칸씩 공백을 두고 값이 가로로 출력"
   ]
  }
 ],
 "metadata": {
  "language_info": {
   "name": "python"
  },
  "orig_nbformat": 4
 },
 "nbformat": 4,
 "nbformat_minor": 2
}
