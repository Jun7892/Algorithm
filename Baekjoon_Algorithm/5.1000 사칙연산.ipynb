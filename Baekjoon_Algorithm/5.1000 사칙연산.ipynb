{
 "cells": [
  {
   "cell_type": "markdown",
   "metadata": {},
   "source": [
    "# Question : A+B"
   ]
  },
  {
   "cell_type": "markdown",
   "metadata": {},
   "source": [
    "<br>\n",
    "##문제\n",
    " - 두 정수 A와 B를 입력받은 다음, A+B를 출력하는 프로그램을 작성하시오.\n",
    "\n",
    "##입력\n",
    " - 첫째 줄에 A와 B가 주어진다. (0 < A, B < 10)\n",
    "\n",
    "##출력\n",
    " - 첫째 줄에 A+B를 출력한다."
   ]
  },
  {
   "cell_type": "markdown",
   "metadata": {},
   "source": [
    "##EX"
   ]
  },
  {
   "cell_type": "code",
   "execution_count": null,
   "metadata": {},
   "outputs": [],
   "source": [
    "Input :\n",
    "\n",
    "1 2\n",
    "\n",
    "Output :\n",
    "\n",
    "3"
   ]
  },
  {
   "cell_type": "markdown",
   "metadata": {},
   "source": [
    "<br>\n",
    "#My Answer"
   ]
  },
  {
   "cell_type": "code",
   "execution_count": 3,
   "metadata": {},
   "outputs": [
    {
     "name": "stdout",
     "output_type": "stream",
     "text": [
      "7\n"
     ]
    }
   ],
   "source": [
    "# 1st attempt\n",
    "\n",
    "import random\n",
    "\n",
    "A = random.randrange(0,10)\n",
    "B = random.randrange(0,10)\n",
    "\n",
    "print(A+B)"
   ]
  },
  {
   "cell_type": "code",
   "execution_count": null,
   "metadata": {},
   "outputs": [],
   "source": [
    "Output :\n",
    "    \n",
    "10"
   ]
  },
  {
   "cell_type": "markdown",
   "metadata": {},
   "source": [
    "틀린 이유 : 값을 입력받아서 출력하는 것인데 잘못이해해서 랜덤값으로 줘버림"
   ]
  },
  {
   "cell_type": "code",
   "execution_count": null,
   "metadata": {},
   "outputs": [],
   "source": [
    "# 2nd attempt\n",
    "\n",
    "A, B = input().split()\n",
    "\n",
    "print(int(A)+int(B))"
   ]
  },
  {
   "cell_type": "markdown",
   "metadata": {},
   "source": [
    "input( ) 함수는 사용자로부터 문자열을 입력받을 때 사용하게 된다. 이 문제에서의 사용자는 백준 측인데 위의 문제에서 볼 때 예제 입력 1에 있는 숫자를 입력받게 되는 것이다. 이때에 입력받는 숫자는 랜덤으로 받게 되니 어떤 숫자가 입력되건 맞는 답이 도출되도록 코드를 작성해야 한다. 그럴 때 = 왼쪽에 변수를 두고 = 오른쪽에 input( ) 함수를 작성하면 입력받은 문자를 변수에 선언할 수 있게 된다.\n",
    "\n",
    "유의해야 할 점은 input 함수로 입력받는 것은 문자열로 입력받는다는 것이다. 사용자가 숫자를 입력하더라도 마찬가지로 문자열 형태로 입력받게 된다. 위의 예제 입력에서 보면  숫자 1과 2를 입력받는 게 아니라 '1 2'라는 숫자 두 개 사이에 공백이 있는 하나의 문자열을 입력받는 것이다."
   ]
  },
  {
   "cell_type": "markdown",
   "metadata": {},
   "source": [
    "다음으로 split( ) 함수는 입력받는 문자를 나눌 때 사용하는 함수이다. 위 문제에서 보면 숫자 두 개를 한 줄에 입력받는데 두 개의 숫자 사이에는 공백으로 구분되어 있다. 이런 경우에는 공백을 기준으로 숫자를 나누면 된다. 사용 형태는 문자열 뒤에 점을 붙이고 split( )을 써주면 된다. 위에서 input( ). split( )이라고 쓴 것은 입력받는 문자가 아직 정해지지 않았으나 어떤 문자이건 공백을 기준으로 나누겠다는 의미이다.\n",
    "\n",
    "괄호 안에 아무것도 넣지 않으면 공백(띄어쓰기, 탭 등)을 기준으로 문자열을 나눈다. "
   ]
  },
  {
   "cell_type": "markdown",
   "metadata": {},
   "source": [
    "A, B = input( ). split( ) 문장에서 = 왼쪽에 A, B 두 개로 구분한 것은 튜플(tuple) 자료형의 성질을 이용한 것이다. = 우측에서 입력받은 문자를 공백을 기준으로 나누게 되면 두 개의 문자로 나누어지게 된다. 그 두 개의 문자를 각각 A, B 변수에 저장하겠다는 의미이다."
   ]
  }
 ],
 "metadata": {
  "interpreter": {
   "hash": "d2f01befc73c571f9cb32de030ac5853b9c78fe61c456cb8482afceab142f1aa"
  },
  "kernelspec": {
   "display_name": "Python 3.9.9 64-bit",
   "language": "python",
   "name": "python3"
  },
  "language_info": {
   "codemirror_mode": {
    "name": "ipython",
    "version": 3
   },
   "file_extension": ".py",
   "mimetype": "text/x-python",
   "name": "python",
   "nbconvert_exporter": "python",
   "pygments_lexer": "ipython3",
   "version": "3.9.9"
  },
  "orig_nbformat": 4
 },
 "nbformat": 4,
 "nbformat_minor": 2
}
