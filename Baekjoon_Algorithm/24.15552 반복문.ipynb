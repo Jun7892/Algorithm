{
 "cells": [
  {
   "cell_type": "markdown",
   "metadata": {},
   "source": [
    "# Question : 빠른 A+B"
   ]
  },
  {
   "cell_type": "markdown",
   "metadata": {},
   "source": [
    "<br>\n",
    "##문제\n",
    "\n",
    " - 본격적으로 for문 문제를 풀기 전에 주의해야 할 점이 있다. 입출력 방식이 느리면 여러 줄을 입력받거나 출력할 때 시간초과가 날 수 있다는 점이다.\n",
    "\n",
    " - C++을 사용하고 있고 cin/cout을 사용하고자 한다면, cin.tie(NULL)과 sync_with_stdio(false)를 둘 다 적용해 주고, endl 대신 개행문자(\\n)를 쓰자. 단, 이렇게 하면 더 이상 scanf/printf/puts/getchar/putchar 등 C의 입출력 방식을 사용하면 안 된다.\n",
    "\n",
    " - Java를 사용하고 있다면, Scanner와 System.out.println 대신 BufferedReader와 BufferedWriter를 사용할 수 있다. BufferedWriter.flush는 맨 마지막에 한 번만 하면 된다.\n",
    "\n",
    " - Python을 사용하고 있다면, input 대신 sys.stdin.readline을 사용할 수 있다. 단, 이때는 맨 끝의 개행문자까지 같이 입력받기 때문에 문자열을 저장하고 싶을 경우 .rstrip()을 추가로 해 주는 것이 좋다.\n",
    "\n",
    " - 또한 입력과 출력 스트림은 별개이므로, 테스트케이스를 전부 입력받아서 저장한 뒤 전부 출력할 필요는 없다. 테스트케이스를 하나 받은 뒤 하나 출력해도 된다.\n",
    "\n",
    "\n",
    " - 자세한 설명 및 다른 언어의 경우는 이 글에 설명되어 있다.\n",
    " https://www.acmicpc.net/board/view/22716\n",
    "\n",
    " - 이 블로그 글에서 BOJ의 기타 여러 가지 팁을 볼 수 있다.\n",
    "https://www.acmicpc.net/blog/view/55\n",
    "\n",
    "##입력\n",
    " - 첫 줄에 테스트케이스의 개수 T가 주어진다. T는 최대 1,000,000이다. 다음 T줄에는 각각 두 정수 A와 B가 주어진다. A와 B는 1 이상, 1,000 이하이다.\n",
    "\n",
    "##출력\n",
    " - 각 테스트케이스마다 A+B를 한 줄에 하나씩 순서대로 출력한다."
   ]
  },
  {
   "cell_type": "markdown",
   "metadata": {},
   "source": [
    "##EX"
   ]
  },
  {
   "cell_type": "code",
   "execution_count": null,
   "metadata": {},
   "outputs": [],
   "source": [
    "Input :\n",
    "\n",
    "5\n",
    "1 1\n",
    "12 34\n",
    "5 500\n",
    "40 60\n",
    "1000 1000\n",
    "\n",
    "Output :\n",
    "\n",
    "2\n",
    "46\n",
    "505\n",
    "100\n",
    "2000"
   ]
  },
  {
   "cell_type": "markdown",
   "metadata": {},
   "source": [
    "<br>\n",
    "#My Answer"
   ]
  },
  {
   "cell_type": "code",
   "execution_count": null,
   "metadata": {},
   "outputs": [],
   "source": [
    "# 1st attempt\n",
    "\n",
    "T = int(input())\n",
    "\n",
    "for i in range(T):\n",
    "    A, B = map(int, input().split())\n",
    "    print(A+B)"
   ]
  },
  {
   "cell_type": "markdown",
   "metadata": {},
   "source": [
    "오류 : 시간초과\n",
    "\n",
    "이 문제에서 빠른 A+B를 위해 Python의 경우 input 대신 sys.stdin.readline을 사용하라고 권고\n",
    "\n",
    "즉, 이 문제는 import sys를 사용해 sys.stdin.readline()을 사용할 수 있는지가 관건인 문제"
   ]
  },
  {
   "cell_type": "code",
   "execution_count": null,
   "metadata": {},
   "outputs": [],
   "source": [
    "# 2nd attempt\n",
    "\n",
    "import sys\n",
    "\n",
    "T = int(input())\n",
    "\n",
    "for i in range(T):\n",
    "    A, B = map(int, sys.stdin.readline().split())\n",
    "    print(A+B)"
   ]
  }
 ],
 "metadata": {
  "language_info": {
   "name": "python"
  },
  "orig_nbformat": 4
 },
 "nbformat": 4,
 "nbformat_minor": 2
}
