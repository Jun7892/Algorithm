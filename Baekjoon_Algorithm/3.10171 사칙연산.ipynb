{
 "cells": [
  {
   "cell_type": "markdown",
   "metadata": {},
   "source": [
    "# Question : 고양이"
   ]
  },
  {
   "cell_type": "markdown",
   "metadata": {},
   "source": [
    "<br>\n",
    "##문제\n",
    " - 아래 예제와 같이 고양이를 출력하시오.\n",
    "\n",
    "##입력\n",
    " - 없음\n",
    "\n",
    "##출력\n",
    " - 고양이를 출력한다."
   ]
  },
  {
   "cell_type": "markdown",
   "metadata": {},
   "source": [
    "##EX"
   ]
  },
  {
   "cell_type": "code",
   "execution_count": null,
   "metadata": {},
   "outputs": [],
   "source": [
    "Input :\n",
    "\n",
    "none\n",
    "\n",
    "Output :\n",
    "\n",
    "\\    /\\\n",
    " )  ( ')\n",
    "(  /  )\n",
    " \\(__)|"
   ]
  },
  {
   "cell_type": "markdown",
   "metadata": {},
   "source": [
    "<br>\n",
    "#My Answer"
   ]
  },
  {
   "cell_type": "code",
   "execution_count": 2,
   "metadata": {},
   "outputs": [
    {
     "ename": "SyntaxError",
     "evalue": "EOL while scanning string literal (34977.py, line 1)",
     "output_type": "error",
     "traceback": [
      "\u001b[1;36m  Input \u001b[1;32mIn [2]\u001b[1;36m\u001b[0m\n\u001b[1;33m    print(\"\\    /\\\")\u001b[0m\n\u001b[1;37m                    ^\u001b[0m\n\u001b[1;31mSyntaxError\u001b[0m\u001b[1;31m:\u001b[0m EOL while scanning string literal\n"
     ]
    }
   ],
   "source": [
    "# 1st attempt\n",
    "\n",
    "print(\"\\    /\\\")\n",
    "print(\" )  ( ')\")\n",
    "print(\"(  /  )\")\n",
    "print(\" \\(__)|\")\n"
   ]
  },
  {
   "cell_type": "code",
   "execution_count": null,
   "metadata": {},
   "outputs": [],
   "source": [
    "Output :\n",
    "    \n",
    "SyntaxError: EOL while scanning string literal"
   ]
  },
  {
   "cell_type": "code",
   "execution_count": 3,
   "metadata": {},
   "outputs": [
    {
     "name": "stdout",
     "output_type": "stream",
     "text": [
      "\\    /\\\n",
      " )  ( ')\n",
      "(  /  )\n",
      " \\(__)|\n"
     ]
    }
   ],
   "source": [
    "# 2nd attempt\n",
    "\n",
    "print(\"\\\\    /\\\\\")\n",
    "print(\" )  ( ')\")\n",
    "print(\"(  /  )\")\n",
    "print(\" \\\\(__)|\")"
   ]
  },
  {
   "cell_type": "code",
   "execution_count": null,
   "metadata": {},
   "outputs": [],
   "source": [
    "Output :\n",
    "    \n",
    "\\    /\\\n",
    " )  ( ')\n",
    "(  /  )\n",
    " \\(__)|"
   ]
  },
  {
   "cell_type": "markdown",
   "metadata": {},
   "source": [
    "역슬래시(\\)를 쓸때는 \\\\ 이렇게 두개를 연속해서 적어야 역슬래시가 인식\n",
    "역슬래시를 출력할때는 두개를 연속해서 써야 한다."
   ]
  }
 ],
 "metadata": {
  "interpreter": {
   "hash": "d2f01befc73c571f9cb32de030ac5853b9c78fe61c456cb8482afceab142f1aa"
  },
  "kernelspec": {
   "display_name": "Python 3.9.9 64-bit",
   "language": "python",
   "name": "python3"
  },
  "language_info": {
   "codemirror_mode": {
    "name": "ipython",
    "version": 3
   },
   "file_extension": ".py",
   "mimetype": "text/x-python",
   "name": "python",
   "nbconvert_exporter": "python",
   "pygments_lexer": "ipython3",
   "version": "3.9.9"
  },
  "orig_nbformat": 4
 },
 "nbformat": 4,
 "nbformat_minor": 2
}
