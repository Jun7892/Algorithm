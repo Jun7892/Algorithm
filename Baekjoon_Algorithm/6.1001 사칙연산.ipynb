{
 "cells": [
  {
   "cell_type": "markdown",
   "metadata": {},
   "source": [
    "# Question : A-B"
   ]
  },
  {
   "cell_type": "markdown",
   "metadata": {},
   "source": [
    "<br>\n",
    "##문제\n",
    " - 두 정수 A와 B를 입력받은 다음, A-B를 출력하는 프로그램을 작성하시오.\n",
    "\n",
    "##입력\n",
    " - 첫째 줄에 A와 B가 주어진다. (0 < A, B < 10)\n",
    "\n",
    "##출력\n",
    " - 첫째 줄에 A-B를 출력한다."
   ]
  },
  {
   "cell_type": "markdown",
   "metadata": {},
   "source": [
    "##EX"
   ]
  },
  {
   "cell_type": "code",
   "execution_count": null,
   "metadata": {},
   "outputs": [],
   "source": [
    "Input :\n",
    "\n",
    "3 2\n",
    "\n",
    "Output :\n",
    "\n",
    "1"
   ]
  },
  {
   "cell_type": "markdown",
   "metadata": {},
   "source": [
    "<br>\n",
    "#My Answer"
   ]
  },
  {
   "cell_type": "code",
   "execution_count": null,
   "metadata": {},
   "outputs": [],
   "source": [
    "# 1st attempt\n",
    "\n",
    "A,B = input().split()\n",
    "\n",
    "\n",
    "if int(A) > int(B):\n",
    "    print(int(A)-int(B))\n",
    "else:\n",
    "    print(int(B)-int(A))"
   ]
  },
  {
   "cell_type": "markdown",
   "metadata": {},
   "source": [
    "틀린이유 : 문제 출력이 \"첫째 줄에 A-B를 출력한다.\" 이였음으로 B-A는 고려안해도 된다."
   ]
  },
  {
   "cell_type": "code",
   "execution_count": null,
   "metadata": {},
   "outputs": [],
   "source": [
    "# 2rd attempt\n",
    "\n",
    "A,B = input().split()\n",
    "\n",
    "print(int(A)-int(B))\n"
   ]
  }
 ],
 "metadata": {
  "language_info": {
   "name": "python"
  },
  "orig_nbformat": 4
 },
 "nbformat": 4,
 "nbformat_minor": 2
}
