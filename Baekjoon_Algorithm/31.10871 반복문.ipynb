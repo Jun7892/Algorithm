{
 "cells": [
  {
   "cell_type": "markdown",
   "metadata": {},
   "source": [
    "# Question : X보다 작은 수"
   ]
  },
  {
   "cell_type": "markdown",
   "metadata": {},
   "source": [
    "<br>\n",
    "##문제\n",
    "\n",
    " - 정수 N개로 이루어진 수열 A와 정수 X가 주어진다. 이때, A에서 X보다 작은 수를 모두 출력하는 프로그램을 작성하시오.\n",
    "\n",
    "##입력\n",
    " - 첫째 줄에 N과 X가 주어진다. (1 ≤ N, X ≤ 10,000)\n",
    "\n",
    " - 둘째 줄에 수열 A를 이루는 정수 N개가 주어진다. 주어지는 정수는 모두 1보다 크거나 같고, 10,000보다 작거나 같은 정수이다.\n",
    "\n",
    "##출력\n",
    " - X보다 작은 수를 입력받은 순서대로 공백으로 구분해 출력한다. X보다 작은 수는 적어도 하나 존재한다."
   ]
  },
  {
   "cell_type": "markdown",
   "metadata": {},
   "source": [
    "##EX"
   ]
  },
  {
   "cell_type": "code",
   "execution_count": null,
   "metadata": {},
   "outputs": [],
   "source": [
    "Input :\n",
    "\n",
    "10 5\n",
    "1 10 4 9 2 3 8 5 7 6\n",
    "\n",
    "Output :\n",
    "\n",
    "1 4 2 3"
   ]
  },
  {
   "cell_type": "markdown",
   "metadata": {},
   "source": [
    "<br>\n",
    "#My Answer"
   ]
  },
  {
   "cell_type": "code",
   "execution_count": null,
   "metadata": {},
   "outputs": [],
   "source": [
    "# 1st attempt\n",
    "import sys\n",
    "\n",
    "N, X = map(int, sys.stdin.readline().split())\n",
    "# N, X = map(int, input().split())\n",
    "\n",
    "A = int(sys.stdin.readline().split())\n",
    "B = []\n",
    "\n",
    "for i in range(A):\n",
    "    if A[i] < X:\n",
    "        B.append[A[i]]\n",
    "        \n",
    "print(B)\n",
    "        "
   ]
  },
  {
   "cell_type": "markdown",
   "metadata": {},
   "source": [
    "틀린 이유 : A에 list 함수를 쓰면 B리스트를 굳이 따로 만들 필요가 없음"
   ]
  },
  {
   "cell_type": "code",
   "execution_count": null,
   "metadata": {},
   "outputs": [],
   "source": [
    "# 2rd attempt\n",
    "import sys\n",
    "\n",
    "N, X = map(int, sys.stdin.readline().split())\n",
    "# N, X = map(int, input().split())\n",
    "\n",
    "A = list(int(sys.stdin.readline().split()))\n",
    "\n",
    "for i in range(N):\n",
    "    if A[i] < X:\n",
    "        print(A[i])\n",
    "        \n",
    "        "
   ]
  },
  {
   "cell_type": "markdown",
   "metadata": {},
   "source": [
    "틀린 이유 : A는 N개의 수열이기 때문에 map를 써서 하나하나 int로 구분해 줘야함\n",
    "\n",
    "range() 범위는 A가 아니라 A가 N개의 수열이기 때문에 N으로 써야함\n",
    "\n",
    "A로 쓸려면 range(len(A)) 로 써야할 것 같음"
   ]
  },
  {
   "cell_type": "code",
   "execution_count": null,
   "metadata": {},
   "outputs": [],
   "source": [
    "# 3th attempt\n",
    "import sys\n",
    "\n",
    "N, X = map(int, sys.stdin.readline().split())\n",
    "# N, X = map(int, input().split())\n",
    "\n",
    "A = list(map(int, sys.stdin.readline().split()))\n",
    "\n",
    "for i in range(N):\n",
    "    if A[i] < X:\n",
    "        print(A[i])\n",
    "        \n",
    "        "
   ]
  },
  {
   "cell_type": "code",
   "execution_count": null,
   "metadata": {},
   "outputs": [],
   "source": [
    "# 다른 풀이\n",
    "\n",
    "N, X = map(int, input().split())\n",
    "A = list(map(int, input().split()))\n",
    "for i in range(N):\n",
    "    if A[i] < X:\n",
    "        print(A[i], end=\" \")\n",
    "        "
   ]
  }
 ],
 "metadata": {
  "language_info": {
   "name": "python"
  },
  "orig_nbformat": 4
 },
 "nbformat": 4,
 "nbformat_minor": 2
}
