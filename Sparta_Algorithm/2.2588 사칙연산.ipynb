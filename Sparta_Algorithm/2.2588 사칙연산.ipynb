{
 "cells": [
  {
   "cell_type": "markdown",
   "metadata": {},
   "source": [
    "# Question : 곱셈"
   ]
  },
  {
   "cell_type": "markdown",
   "metadata": {},
   "source": [
    "<br>\n",
    "##문제\n",
    " - (세 자리 수) × (세 자리 수)는 다음과 같은 과정을 통하여 이루어진다.\n",
    "\n",
    "<img src=\"https://www.acmicpc.net/upload/images/f5NhGHVLM4Ix74DtJrwfC97KepPl27s%20(1).png\">\n",
    "\n",
    " - (1)과 (2)위치에 들어갈 세 자리 자연수가 주어질 때 (3), (4), (5), (6)위치에 들어갈 값을 구하는 프로그램을 작성하시오.\n",
    "\n",
    "##입력\n",
    " - 첫째 줄에 (1)의 위치에 들어갈 세 자리 자연수가, 둘째 줄에 (2)의 위치에 들어갈 세자리 자연수가 주어진다.\n",
    "\n",
    "##출력\n",
    " - 첫째 줄부터 넷째 줄까지 차례대로 (3), (4), (5), (6)에 들어갈 값을 출력한다."
   ]
  },
  {
   "cell_type": "markdown",
   "metadata": {},
   "source": [
    "##EX"
   ]
  },
  {
   "cell_type": "code",
   "execution_count": null,
   "metadata": {},
   "outputs": [],
   "source": [
    "Input :\n",
    "\n",
    "472\n",
    "385\n",
    "\n",
    "Output :\n",
    "\n",
    "2360\n",
    "3776\n",
    "1416\n",
    "181720"
   ]
  },
  {
   "cell_type": "markdown",
   "metadata": {},
   "source": [
    "<br>\n",
    "#My Answer"
   ]
  },
  {
   "cell_type": "code",
   "execution_count": null,
   "metadata": {},
   "outputs": [],
   "source": [
    "# 1st attempt\n",
    "\n",
    "A = int(input())  # 첫번째 입력받은 문자 : 숫자로 변환\n",
    "B = input()       # 두번째 입력받은 문자 : 문자열 그대로 둠\n",
    "\n",
    "# 문자열의 인덱스를 이용해서 두번째 입력 받은 문자를 하나씩 숫자로 반환하고 A와 곱한다.\n",
    "AxB2 = A * int(B[2])\n",
    "AxB1 = A * int(B[1])\n",
    "AxB0 = A * int(B[0])\n",
    "AxB = A * int(B)\n",
    "\n",
    "print(AxB2, AxB1, AxB0, AxB, sep='\\n')\n",
    "# sep='\\n'로 줄바꿈\n",
    "    "
   ]
  },
  {
   "cell_type": "code",
   "execution_count": null,
   "metadata": {},
   "outputs": [],
   "source": [
    "# 다른 방법\n",
    "\n",
    "num1 = 472\n",
    "num2 = 385\n",
    "\n",
    "print(num1 * (num2%10))\n",
    "print(num1 * ((num2%100)//10))\n",
    "print(num1 * (num2//100))\n",
    "print(num1 * num2)\n",
    "\n",
    "# 나머지를 구하는 %을 이용하여 값을 바로 출력하는 방법\n"
   ]
  },
  {
   "cell_type": "code",
   "execution_count": null,
   "metadata": {},
   "outputs": [],
   "source": [
    "# 다른 방법\n",
    "\n",
    "num1 = int(input())\n",
    "num2 = input()\n",
    "\n",
    "for i in range(len(num2), 0, -1):\n",
    "    print(num1 * int(num2[i-1]))\n",
    "\n",
    "print(num1 * int(num2))\n",
    "\n",
    "# range(시작, 마지막, 순서) 함수를 이용해 마지막부터 시작까지 역순으로 출력하는 방법\n"
   ]
  },
  {
   "cell_type": "code",
   "execution_count": null,
   "metadata": {},
   "outputs": [],
   "source": [
    "# 다른 방법\n",
    "\n",
    "num1 = int(input())\n",
    "num2 = list(map(int, input()))\n",
    "\n",
    "result = []\n",
    "\n",
    "for i in range(len(num2), 0, -1):\n",
    "  result.append(num1 * num2[i-1])\n",
    "\n",
    "print(result[0], result[1], result[2], sep='\\n')\n",
    "print(result[0]+(result[1]*10)+result[2]*100)\n",
    "\n",
    "# 결과값을 list 변수에 담고, 출력하는 방법"
   ]
  }
 ],
 "metadata": {
  "language_info": {
   "name": "python"
  },
  "orig_nbformat": 4
 },
 "nbformat": 4,
 "nbformat_minor": 2
}
